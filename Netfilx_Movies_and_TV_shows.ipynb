{
  "nbformat": 4,
  "nbformat_minor": 0,
  "metadata": {
    "colab": {
      "private_outputs": true,
      "provenance": [],
      "collapsed_sections": [
        "vncDsAP0Gaoa",
        "FJNUwmbgGyua",
        "w6K7xa23Elo4",
        "yQaldy8SH6Dl",
        "PH-0ReGfmX4f",
        "mDgbUHAGgjLW",
        "O_i_v8NEhb9l",
        "HhfV-JJviCcP",
        "Y3lxredqlCYt",
        "3RnN4peoiCZX",
        "x71ZqKXriCWQ",
        "7hBIi_osiCS2",
        "JlHwYmJAmNHm",
        "35m5QtbWiB9F",
        "PoPl-ycgm1ru",
        "H0kj-8xxnORC",
        "nA9Y7ga8ng1Z",
        "PBTbrJXOngz2",
        "u3PMJOP6ngxN",
        "dauF4eBmngu3",
        "bKJF3rekwFvQ",
        "MSa1f5Uengrz",
        "GF8Ens_Soomf",
        "0wOQAZs5pc--",
        "K5QZ13OEpz2H",
        "lQ7QKXXCp7Bj",
        "448CDAPjqfQr",
        "KSlN3yHqYklG",
        "t6dVpIINYklI",
        "ijmpgYnKYklI",
        "-JiQyfWJYklI",
        "EM7whBJCYoAo",
        "fge-S5ZAYoAp",
        "85gYPyotYoAp",
        "RoGjAbkUYoAp",
        "4Of9eVA-YrdM",
        "iky9q4vBYrdO",
        "F6T5p64dYrdO",
        "y-Ehk30pYrdP",
        "bamQiAODYuh1",
        "QHF8YVU7Yuh3",
        "GwzvFGzlYuh3",
        "qYpmQ266Yuh3",
        "OH-pJp9IphqM",
        "bbFf2-_FphqN",
        "_ouA3fa0phqN",
        "Seke61FWphqN",
        "PIIx-8_IphqN",
        "t27r6nlMphqO",
        "r2jJGEOYphqO",
        "b0JNsNcRphqO",
        "BZR9WyysphqO",
        "jj7wYXLtphqO",
        "eZrbJ2SmphqO",
        "rFu4xreNphqO",
        "YJ55k-q6phqO",
        "gCFgpxoyphqP",
        "OVtJsKN_phqQ",
        "lssrdh5qphqQ",
        "U2RJ9gkRphqQ",
        "1M8mcRywphqQ",
        "tgIPom80phqQ",
        "JMzcOPDDphqR",
        "x-EpHcCOp1ci",
        "X_VqEhTip1ck",
        "8zGJKyg5p1ck",
        "PVzmfK_Ep1ck",
        "n3dbpmDWp1ck",
        "ylSl6qgtp1ck",
        "ZWILFDl5p1ck",
        "M7G43BXep1ck",
        "Ag9LCva-p1cl",
        "E6MkPsBcp1cl",
        "2cELzS2fp1cl",
        "3MPXvC8up1cl",
        "NC_X3p0fY2L0",
        "UV0SzAkaZNRQ",
        "YPEH6qLeZNRQ",
        "q29F0dvdveiT",
        "EXh0U9oCveiU",
        "22aHeOlLveiV",
        "JcMwzZxoAimU",
        "8G2x9gOozGDZ",
        "gCX9965dhzqZ",
        "gIfDvo9L0UH2"
      ],
      "include_colab_link": true
    },
    "kernelspec": {
      "name": "python3",
      "display_name": "Python 3"
    },
    "language_info": {
      "name": "python"
    }
  },
  "cells": [
    {
      "cell_type": "markdown",
      "metadata": {
        "id": "view-in-github",
        "colab_type": "text"
      },
      "source": [
        "<a href=\"https://colab.research.google.com/github/kpallavi111/Ford-go-bike/blob/main/Netfilx_Movies_and_TV_shows.ipynb\" target=\"_parent\"><img src=\"https://colab.research.google.com/assets/colab-badge.svg\" alt=\"Open In Colab\"/></a>"
      ]
    },
    {
      "cell_type": "markdown",
      "source": [
        "# **Project Name**    - **Netflix Movies and TV Shows Clustering**\n",
        "\n"
      ],
      "metadata": {
        "id": "vncDsAP0Gaoa"
      }
    },
    {
      "cell_type": "markdown",
      "source": [
        "##### **Project Type**    - EDA\n",
        "##### **Contribution**    - Individual"
      ],
      "metadata": {
        "id": "beRrZCGUAJYm"
      }
    },
    {
      "cell_type": "markdown",
      "source": [
        "# **Project Summary -**"
      ],
      "metadata": {
        "id": "FJNUwmbgGyua"
      }
    },
    {
      "cell_type": "markdown",
      "source": [
        "#### **Introduction**\n",
        "Netflix has revolutionized the entertainment industry by providing a vast collection of movies and TV shows across different genres and regions. This project aims to perform **Exploratory Data Analysis (EDA)** on the Netflix dataset using Python to uncover insights about the content available on the platform. By leveraging Python libraries such as **pandas, matplotlib, seaborn, and numpy**, we will analyze trends, content distribution, and other key aspects of Netflix’s catalog.\n",
        "\n",
        "#### **Objectives**\n",
        "The primary objectives of this project are:\n",
        "1. **Understanding Content Distribution** – Analyzing the proportion of TV shows vs. movies.\n",
        "2. **Release Year Trends** – Identifying patterns in content production and addition.\n",
        "3. **Country-wise Analysis** – Exploring the geographical diversity of Netflix’s content.\n",
        "4. **Director and Cast Insights** – Finding the most frequent directors and actors.\n",
        "5. **Genre Analysis** – Examining the most popular genres.\n",
        "6. **Ratings and Duration** – Understanding the suitability and length of content.\n",
        "7. **Handling Missing Values** – Cleaning and preprocessing the dataset for better analysis.\n",
        "\n",
        "#### **Data Cleaning and Preprocessing**\n",
        "Before performing EDA, we need to clean the dataset:\n",
        "- **Handling Missing Values** – Using techniques like filling missing values with mode/median or dropping irrelevant rows.\n",
        "- **Standardizing Formats** – Ensuring consistency in date formats and categorical values.\n",
        "- **Removing Duplicates** – Checking for duplicate entries and eliminating them.\n",
        "- **Feature Engineering** – Creating new features such as content age or popularity trends.\n",
        "\n",
        "#### **Exploratory Data Analysis (EDA)**\n",
        "##### **1. Content Type Distribution**\n",
        "Using a bar plot, we analyze the proportion of **movies vs. TV shows** to understand Netflix’s focus.\n",
        "\n",
        "##### **2. Release Year Trends**\n",
        "A histogram or line plot helps visualize the number of titles released each year, highlighting trends in content production.\n",
        "\n",
        "##### **3. Country-wise Analysis**\n",
        "A bar chart or world map visualization shows the **top countries** producing Netflix content.\n",
        "\n",
        "##### **4. Director and Cast Insights**\n",
        "By analyzing the frequency of directors and actors, we can identify the **most influential figures** in Netflix’s catalog.\n",
        "\n",
        "##### **5. Genre Analysis**\n",
        "A word cloud or bar plot helps visualize the **most common genres** on Netflix.\n",
        "\n",
        "##### **6. Ratings and Duration**\n",
        "- A box plot can show the **distribution of content ratings**.\n",
        "- A histogram can analyze the **duration of movies and TV shows**.\n",
        "\n",
        "##### **7. Missing Values Visualization**\n",
        "Using **missingno** and heatmaps, we visualize missing values and decide on appropriate handling techniques.\n",
        "\n",
        "#### **Visualization Techniques**\n",
        "- **Bar Charts** – Content type distribution, country-wise analysis.\n",
        "- **Histograms** – Release year trends, duration analysis.\n",
        "- **Word Clouds** – Genre analysis.\n",
        "- **Heatmaps** – Missing values visualization.\n",
        "- **Box Plots** – Ratings and duration analysis.\n",
        "\n",
        "#### **Insights and Findings**\n",
        "Based on the analysis, we can derive key insights such as:\n",
        "- Netflix has a **higher proportion of movies** compared to TV shows.\n",
        "- Content production has **increased significantly after 2015**.\n",
        "- The **USA dominates Netflix’s catalog**, followed by India and the UK.\n",
        "- **Drama and Comedy** are the most popular genres.\n",
        "- **TV-MA (Mature) rating** is the most common.\n",
        "- **Certain directors and actors appear frequently**, indicating strong collaborations.\n"
      ],
      "metadata": {
        "id": "F6v_1wHtG2nS"
      }
    },
    {
      "cell_type": "markdown",
      "source": [
        "# **GitHub Link -**"
      ],
      "metadata": {
        "id": "w6K7xa23Elo4"
      }
    },
    {
      "cell_type": "markdown",
      "source": [
        "\n",
        "[GITHUB LINK](https://github.com/kpallavi111/Ford-go-bike/blob/main/Netfilx_Movies_and_TV_shows.ipynb)\n",
        "\n"
      ],
      "metadata": {
        "id": "h1o69JH3Eqqn"
      }
    },
    {
      "cell_type": "markdown",
      "source": [
        "# **Problem Statement**\n"
      ],
      "metadata": {
        "id": "yQaldy8SH6Dl"
      }
    },
    {
      "cell_type": "markdown",
      "source": [
        "**The project aims to explore and analyze Netflix’s content catalog using Python-based Exploratory Data Analysis (EDA). It focuses on understanding trends in movies and TV shows, identifying popular genres, analyzing ratings and durations, and examining country-wise content distribution. By handling missing values, cleaning data, and visualizing key insights, this analysis will reveal patterns in Netflix’s content strategy, helping with recommendations, content planning, and a deeper understanding of streaming trends.**"
      ],
      "metadata": {
        "id": "DpeJGUA3kjGy"
      }
    },
    {
      "cell_type": "markdown",
      "source": [
        "#### **Define Your Business Objective?**"
      ],
      "metadata": {
        "id": "PH-0ReGfmX4f"
      }
    },
    {
      "cell_type": "markdown",
      "source": [
        "The primary business objective of this project is to **analyze Netflix’s content catalog** to uncover trends, patterns, and insights that can help improve content strategy, audience engagement, and platform growth. By performing **Exploratory Data Analysis (EDA)**, we aim to:  \n",
        "\n",
        "1. **Optimize Content Strategy** – Identify the most popular genres, ratings, and content types to guide future content production.  \n",
        "2. **Enhance User Engagement** – Understand viewing trends to recommend content that aligns with audience preferences.  \n",
        "3. **Improve Regional Targeting** – Analyze country-wise content distribution to tailor offerings for different markets.  \n",
        "4. **Identify Gaps in Content** – Detect underrepresented genres or regions to expand Netflix’s catalog strategically.  \n",
        "5. **Support Business Growth** – Provide data-driven insights to help Netflix make informed decisions on acquisitions, partnerships, and content investments.  \n",
        "\n",
        "By leveraging Python-based EDA techniques, this project will help Netflix refine its content offerings, improve user satisfaction, and strengthen its position in the competitive streaming industry."
      ],
      "metadata": {
        "id": "PhDvGCAqmjP1"
      }
    },
    {
      "cell_type": "markdown",
      "source": [
        "# ***Let's Begin !***"
      ],
      "metadata": {
        "id": "O_i_v8NEhb9l"
      }
    },
    {
      "cell_type": "markdown",
      "source": [
        "## ***1. Know Your Data***"
      ],
      "metadata": {
        "id": "HhfV-JJviCcP"
      }
    },
    {
      "cell_type": "markdown",
      "source": [
        "### Import Libraries"
      ],
      "metadata": {
        "id": "Y3lxredqlCYt"
      }
    },
    {
      "cell_type": "code",
      "source": [
        "# Import Libraries"
      ],
      "metadata": {
        "id": "M8Vqi-pPk-HR"
      },
      "execution_count": null,
      "outputs": []
    },
    {
      "cell_type": "code",
      "source": [
        "import pandas as pd\n",
        "import numpy as np\n",
        "import matplotlib.pyplot as plt\n",
        "import seaborn as sns"
      ],
      "metadata": {
        "id": "dizusNXbRYH5"
      },
      "execution_count": null,
      "outputs": []
    },
    {
      "cell_type": "markdown",
      "source": [
        "### Dataset Loading"
      ],
      "metadata": {
        "id": "3RnN4peoiCZX"
      }
    },
    {
      "cell_type": "code",
      "source": [
        "#mount drive"
      ],
      "metadata": {
        "id": "yWNYes-DSL0v"
      },
      "execution_count": null,
      "outputs": []
    },
    {
      "cell_type": "code",
      "source": [
        "from google.colab import drive\n",
        "drive.mount('/content/drive')"
      ],
      "metadata": {
        "id": "xjDQICyeSVHm"
      },
      "execution_count": null,
      "outputs": []
    },
    {
      "cell_type": "code",
      "source": [
        "# locate csv file"
      ],
      "metadata": {
        "id": "4rtDF07OScxu"
      },
      "execution_count": null,
      "outputs": []
    },
    {
      "cell_type": "code",
      "source": [
        "import os\n",
        "os.listdir('/content/drive/MyDrive/')"
      ],
      "metadata": {
        "id": "vS6U-oUXSg-E"
      },
      "execution_count": null,
      "outputs": []
    },
    {
      "cell_type": "code",
      "source": [
        "# Load Dataset"
      ],
      "metadata": {
        "id": "4CkvbW_SlZ_R"
      },
      "execution_count": null,
      "outputs": []
    },
    {
      "cell_type": "code",
      "source": [
        "df=pd.read_csv('/content/drive/MyDrive/NETFLIX MOVIES AND TV SHOWS CLUSTERING.csv')"
      ],
      "metadata": {
        "id": "i_0v2r6LTT7q"
      },
      "execution_count": null,
      "outputs": []
    },
    {
      "cell_type": "markdown",
      "source": [
        "### Dataset First View"
      ],
      "metadata": {
        "id": "x71ZqKXriCWQ"
      }
    },
    {
      "cell_type": "code",
      "source": [
        "# Dataset First Look"
      ],
      "metadata": {
        "id": "LWNFOSvLl09H"
      },
      "execution_count": null,
      "outputs": []
    },
    {
      "cell_type": "code",
      "source": [
        "df"
      ],
      "metadata": {
        "id": "c8Tyf_ZETxqT"
      },
      "execution_count": null,
      "outputs": []
    },
    {
      "cell_type": "code",
      "source": [
        "df.head()"
      ],
      "metadata": {
        "id": "gbTpHsegRw5X"
      },
      "execution_count": null,
      "outputs": []
    },
    {
      "cell_type": "markdown",
      "source": [
        "### Dataset Rows & Columns count"
      ],
      "metadata": {
        "id": "7hBIi_osiCS2"
      }
    },
    {
      "cell_type": "code",
      "source": [
        "# Dataset Rows & Columns count"
      ],
      "metadata": {
        "id": "Kllu7SJgmLij"
      },
      "execution_count": null,
      "outputs": []
    },
    {
      "cell_type": "code",
      "source": [
        "r=df.shape[0]\n",
        "c=df.shape[1]\n",
        "print(\"Number of rows: \",r)\n",
        "print(\"Number of columns: \",c)"
      ],
      "metadata": {
        "id": "mjmcVrbpTz6H"
      },
      "execution_count": null,
      "outputs": []
    },
    {
      "cell_type": "markdown",
      "source": [
        "### Dataset Information"
      ],
      "metadata": {
        "id": "JlHwYmJAmNHm"
      }
    },
    {
      "cell_type": "code",
      "source": [
        "# Dataset Info"
      ],
      "metadata": {
        "id": "e9hRXRi6meOf"
      },
      "execution_count": null,
      "outputs": []
    },
    {
      "cell_type": "code",
      "source": [
        "df.info()"
      ],
      "metadata": {
        "id": "G1u3cOpBUcts"
      },
      "execution_count": null,
      "outputs": []
    },
    {
      "cell_type": "markdown",
      "source": [
        "#### Duplicate Values"
      ],
      "metadata": {
        "id": "35m5QtbWiB9F"
      }
    },
    {
      "cell_type": "code",
      "source": [
        "# Dataset Duplicate Value Count"
      ],
      "metadata": {
        "id": "1sLdpKYkmox0"
      },
      "execution_count": null,
      "outputs": []
    },
    {
      "cell_type": "code",
      "source": [
        "df.duplicated().value_counts()"
      ],
      "metadata": {
        "id": "csR5CDptUhYQ"
      },
      "execution_count": null,
      "outputs": []
    },
    {
      "cell_type": "markdown",
      "source": [
        "#### Missing Values/Null Values"
      ],
      "metadata": {
        "id": "PoPl-ycgm1ru"
      }
    },
    {
      "cell_type": "code",
      "source": [
        "# Missing Values/Null Values Count"
      ],
      "metadata": {
        "id": "GgHWkxvamxVg"
      },
      "execution_count": null,
      "outputs": []
    },
    {
      "cell_type": "code",
      "source": [
        "df.isnull().sum()"
      ],
      "metadata": {
        "id": "Xi0lxU3jUwAT"
      },
      "execution_count": null,
      "outputs": []
    },
    {
      "cell_type": "code",
      "source": [
        "# Visualizing the missing values"
      ],
      "metadata": {
        "id": "3q5wnI3om9sJ"
      },
      "execution_count": null,
      "outputs": []
    },
    {
      "cell_type": "code",
      "source": [
        "df.isnull().sum().plot(kind='bar',figsize=(10,6),color='red')\n",
        "plt.xlabel(\"Columns\",fontweight=\"bold\",fontsize=12)\n",
        "plt.ylabel(\"Missing Values\",fontweight=\"bold\",fontsize=12)\n",
        "plt.title(\"Missing values in Each column\")\n",
        "\n",
        "# get the bar container object\n",
        "ax = plt.gca() # gca() gets the current axes object of the chart\n",
        "bars = ax.containers # The 'containers' property gives you access to bar containers that hold the bar plot objects\n",
        "#Iterate over each bar object in the containers\n",
        "for bar in bars[0]:\n",
        "    plt.text(bar.get_x() + bar.get_width()/2, bar.get_height(), str(int(bar.get_height())),\n",
        "             ha='center', va='bottom', fontsize=12, fontweight='bold')\n",
        "\n",
        "plt.show()"
      ],
      "metadata": {
        "id": "R3EN7ZckXFHc"
      },
      "execution_count": null,
      "outputs": []
    },
    {
      "cell_type": "markdown",
      "source": [
        "### What did you know about your dataset?"
      ],
      "metadata": {
        "id": "H0kj-8xxnORC"
      }
    },
    {
      "cell_type": "markdown",
      "source": [
        "I have here about a Netflix data which contains, Number of rows is 7787 and the Number of columns is 12. The dataset is csv types.\n",
        "Through dataset information all data types are object only release_year,it is an integer. Dataset doesnot conatins any duplicate values.The missing values in the columns of director is 2389, cast is 718, country is 507, date_added is 10 and rating is 7. This is the basic information i got from my dataset."
      ],
      "metadata": {
        "id": "gfoNAAC-nUe_"
      }
    },
    {
      "cell_type": "markdown",
      "source": [
        "## ***2. Understanding Your Variables***"
      ],
      "metadata": {
        "id": "nA9Y7ga8ng1Z"
      }
    },
    {
      "cell_type": "code",
      "source": [
        "# Dataset Columns"
      ],
      "metadata": {
        "id": "j7xfkqrt5Ag5"
      },
      "execution_count": null,
      "outputs": []
    },
    {
      "cell_type": "code",
      "source": [
        "df.columns.to_list()"
      ],
      "metadata": {
        "id": "s4PIpYxmliJt"
      },
      "execution_count": null,
      "outputs": []
    },
    {
      "cell_type": "code",
      "source": [
        "# Dataset Describe"
      ],
      "metadata": {
        "id": "DnOaZdaE5Q5t"
      },
      "execution_count": null,
      "outputs": []
    },
    {
      "cell_type": "code",
      "source": [
        "df.describe()"
      ],
      "metadata": {
        "id": "uzmqJnB-lnpK"
      },
      "execution_count": null,
      "outputs": []
    },
    {
      "cell_type": "markdown",
      "source": [
        "### Variables Description"
      ],
      "metadata": {
        "id": "PBTbrJXOngz2"
      }
    },
    {
      "cell_type": "markdown",
      "source": [
        "The dataset contains the following columns:\n",
        "- **show_id** – Unique identifier for each title.\n",
        "- **type** – Whether the content is a movie or TV show.\n",
        "- **title** – Name of the content.\n",
        "- **director** – Director(s) of the content.\n",
        "- **cast** – Actors featured in the content.\n",
        "- **country** – Country of origin.\n",
        "- **date_added** – Date when the content was added to Netflix.\n",
        "- **release_year** – Year of release.\n",
        "- **rating** – Content rating (e.g., PG, R, TV-MA).\n",
        "- **duration** – Length of the content (minutes for movies, seasons for TV shows).\n",
        "- **listed_in** – Genre(s) of the content.\n",
        "- **description** – Brief summary of the content."
      ],
      "metadata": {
        "id": "aJV4KIxSnxay"
      }
    },
    {
      "cell_type": "markdown",
      "source": [
        "### Check Unique Values for each variable."
      ],
      "metadata": {
        "id": "u3PMJOP6ngxN"
      }
    },
    {
      "cell_type": "code",
      "source": [
        "# Check Unique Values for each variable."
      ],
      "metadata": {
        "id": "zms12Yq5n-jE"
      },
      "execution_count": null,
      "outputs": []
    },
    {
      "cell_type": "code",
      "source": [
        "df.nunique()"
      ],
      "metadata": {
        "id": "eQhNjiKXmfkx"
      },
      "execution_count": null,
      "outputs": []
    },
    {
      "cell_type": "markdown",
      "source": [
        "## 3. ***Data Wrangling***"
      ],
      "metadata": {
        "id": "dauF4eBmngu3"
      }
    },
    {
      "cell_type": "markdown",
      "source": [
        "### Data Wrangling Code"
      ],
      "metadata": {
        "id": "bKJF3rekwFvQ"
      }
    },
    {
      "cell_type": "code",
      "source": [
        "# Write your code to make your dataset analysis ready."
      ],
      "metadata": {
        "id": "wk-9a2fpoLcV"
      },
      "execution_count": null,
      "outputs": []
    },
    {
      "cell_type": "code",
      "source": [
        "#remove null values using mode and filling unknown and NA instead."
      ],
      "metadata": {
        "id": "0RUQrFxFNSKJ"
      },
      "execution_count": null,
      "outputs": []
    },
    {
      "cell_type": "code",
      "source": [
        "df['director'] = df['director'].fillna(df['director'].mode()[0])"
      ],
      "metadata": {
        "id": "Xa75ZJvsLKBC"
      },
      "execution_count": null,
      "outputs": []
    },
    {
      "cell_type": "code",
      "source": [
        "df['cast'] = df['cast'].fillna(df['cast'].mode()[0])"
      ],
      "metadata": {
        "id": "pVhlpXvnLW6D"
      },
      "execution_count": null,
      "outputs": []
    },
    {
      "cell_type": "code",
      "source": [
        "df['country'] = df['country'].fillna(df['country'].mode()[0])"
      ],
      "metadata": {
        "id": "AUY91t9oLZL6"
      },
      "execution_count": null,
      "outputs": []
    },
    {
      "cell_type": "code",
      "source": [
        "df['date_added'] = df['date_added'].fillna(\"NA\")"
      ],
      "metadata": {
        "id": "J66N2xHJLZ4d"
      },
      "execution_count": null,
      "outputs": []
    },
    {
      "cell_type": "code",
      "source": [
        "df['rating'] = df['rating'].fillna(\"Unknown\")"
      ],
      "metadata": {
        "id": "eFaM_Lg_Lajx"
      },
      "execution_count": null,
      "outputs": []
    },
    {
      "cell_type": "code",
      "source": [
        "df"
      ],
      "metadata": {
        "id": "spqyhsRzMIDl"
      },
      "execution_count": null,
      "outputs": []
    },
    {
      "cell_type": "code",
      "source": [
        "df.isnull().sum()"
      ],
      "metadata": {
        "id": "YibLbJslMLv1"
      },
      "execution_count": null,
      "outputs": []
    },
    {
      "cell_type": "markdown",
      "source": [
        "### What all manipulations have you done and insights you found?"
      ],
      "metadata": {
        "id": "MSa1f5Uengrz"
      }
    },
    {
      "cell_type": "markdown",
      "source": [
        "I replace null values from mode and may be putting there Unknown or NA values."
      ],
      "metadata": {
        "id": "LbyXE7I1olp8"
      }
    },
    {
      "cell_type": "markdown",
      "source": [
        "## ***4. Data Vizualization, Storytelling & Experimenting with charts : Understand the relationships between variables***"
      ],
      "metadata": {
        "id": "GF8Ens_Soomf"
      }
    },
    {
      "cell_type": "markdown",
      "source": [
        "###**Univariate Analysis (Single Variable)**"
      ],
      "metadata": {
        "id": "L81MUSyxPM2B"
      }
    },
    {
      "cell_type": "markdown",
      "source": [
        "#### Chart - 1"
      ],
      "metadata": {
        "id": "0wOQAZs5pc--"
      }
    },
    {
      "cell_type": "code",
      "source": [
        "# Chart - 1 visualization code"
      ],
      "metadata": {
        "id": "7v_ESjsspbW7"
      },
      "execution_count": null,
      "outputs": []
    },
    {
      "cell_type": "markdown",
      "source": [
        "Bar Chart - Content Type Distribution (Movies vs. TV Shows)"
      ],
      "metadata": {
        "id": "4xEl78W8VarJ"
      }
    },
    {
      "cell_type": "code",
      "source": [
        "df['type'].value_counts().plot(kind='bar', color=['skyblue', 'lightcoral'])\n",
        "plt.xlabel(\"Content Type\")\n",
        "plt.ylabel(\"Count\")\n",
        "plt.title(\"Distribution of Movies vs. TV Shows\")\n",
        "plt.show()"
      ],
      "metadata": {
        "id": "_FrUIJcWPc9O"
      },
      "execution_count": null,
      "outputs": []
    },
    {
      "cell_type": "markdown",
      "source": [
        "##### 1. Why did you pick the specific chart?"
      ],
      "metadata": {
        "id": "K5QZ13OEpz2H"
      }
    },
    {
      "cell_type": "markdown",
      "source": [
        "A bar chart is ideal for visualizing categorical variables with discrete values, making it easy to compare the number of movies vs. TV shows."
      ],
      "metadata": {
        "id": "XESiWehPqBRc"
      }
    },
    {
      "cell_type": "markdown",
      "source": [
        "##### 2. What is/are the insight(s) found from the chart?"
      ],
      "metadata": {
        "id": "lQ7QKXXCp7Bj"
      }
    },
    {
      "cell_type": "markdown",
      "source": [
        "This graph highlights whether Netflix’s library is more focused on movies or TV shows, helping businesses understand content availability trends."
      ],
      "metadata": {
        "id": "C_j1G7yiqdRP"
      }
    },
    {
      "cell_type": "markdown",
      "source": [
        "#### Chart - 2"
      ],
      "metadata": {
        "id": "KSlN3yHqYklG"
      }
    },
    {
      "cell_type": "code",
      "source": [
        "# Chart - 2 visualization code"
      ],
      "metadata": {
        "id": "R4YgtaqtYklH"
      },
      "execution_count": null,
      "outputs": []
    },
    {
      "cell_type": "code",
      "source": [
        "Histogram - Release Year Distribution"
      ],
      "metadata": {
        "id": "sAWmSKjwP7OV"
      },
      "execution_count": null,
      "outputs": []
    },
    {
      "cell_type": "code",
      "source": [
        "df['release_year'].plot(kind='hist', bins=30, color='green', alpha=0.7)\n",
        "plt.xlabel(\"Release Year\")\n",
        "plt.ylabel(\"Count\")\n",
        "plt.title(\"Number of Movies and Shows Released Over Time\")\n",
        "plt.show()"
      ],
      "metadata": {
        "id": "aG-5aQAZQAar"
      },
      "execution_count": null,
      "outputs": []
    },
    {
      "cell_type": "markdown",
      "source": [
        "##### 1. Why did you pick the specific chart?"
      ],
      "metadata": {
        "id": "t6dVpIINYklI"
      }
    },
    {
      "cell_type": "markdown",
      "source": [
        "Histograms are perfect for analyzing continuous variables like release year, helping identify trends in content production over time.\n"
      ],
      "metadata": {
        "id": "5aaW0BYyYklI"
      }
    },
    {
      "cell_type": "markdown",
      "source": [
        "##### 2. What is/are the insight(s) found from the chart?"
      ],
      "metadata": {
        "id": "ijmpgYnKYklI"
      }
    },
    {
      "cell_type": "markdown",
      "source": [
        "Shows the distribution of content release across different years. Peaks indicate periods of high content production."
      ],
      "metadata": {
        "id": "PSx9atu2YklI"
      }
    },
    {
      "cell_type": "markdown",
      "source": [
        "#### Chart - 3"
      ],
      "metadata": {
        "id": "EM7whBJCYoAo"
      }
    },
    {
      "cell_type": "code",
      "source": [
        "# Chart - 3 visualization code"
      ],
      "metadata": {
        "id": "t6GMdE67YoAp"
      },
      "execution_count": null,
      "outputs": []
    },
    {
      "cell_type": "code",
      "source": [
        "Pie Chart - Ratings Distribution"
      ],
      "metadata": {
        "id": "WsgmoTDCQOXq"
      },
      "execution_count": null,
      "outputs": []
    },
    {
      "cell_type": "code",
      "source": [
        "df['rating'].value_counts().plot(kind='pie', autopct='%1.1f%%', colors=['red', 'blue', 'yellow', 'green'])\n",
        "plt.title(\"Distribution of Ratings in Netflix\")\n",
        "plt.show()"
      ],
      "metadata": {
        "id": "5EZMWfjvQnMo"
      },
      "execution_count": null,
      "outputs": []
    },
    {
      "cell_type": "markdown",
      "source": [
        "##### 1. Why did you pick the specific chart?"
      ],
      "metadata": {
        "id": "fge-S5ZAYoAp"
      }
    },
    {
      "cell_type": "markdown",
      "source": [
        "A pie chart helps visualize proportions, making it easy to see which ratings are most common on Netflix"
      ],
      "metadata": {
        "id": "5dBItgRVYoAp"
      }
    },
    {
      "cell_type": "markdown",
      "source": [
        "##### 2. What is/are the insight(s) found from the chart?"
      ],
      "metadata": {
        "id": "85gYPyotYoAp"
      }
    },
    {
      "cell_type": "markdown",
      "source": [
        "Provides an overview of the target audience preferences (e.g., more mature content or family-friendly)."
      ],
      "metadata": {
        "id": "4jstXR6OYoAp"
      }
    },
    {
      "cell_type": "markdown",
      "source": [
        "#### Chart - 4"
      ],
      "metadata": {
        "id": "4Of9eVA-YrdM"
      }
    },
    {
      "cell_type": "code",
      "source": [
        "# Chart - 4 visualization code"
      ],
      "metadata": {
        "id": "irlUoxc8YrdO"
      },
      "execution_count": null,
      "outputs": []
    },
    {
      "cell_type": "code",
      "source": [
        "Bar Chart - Top 10 Countries Producing Content"
      ],
      "metadata": {
        "id": "CxeW0hT8Q9Iw"
      },
      "execution_count": null,
      "outputs": []
    },
    {
      "cell_type": "code",
      "source": [
        "df['country'].value_counts().head(10).plot(kind='bar', color='purple')\n",
        "plt.xlabel(\"Country\")\n",
        "plt.ylabel(\"Count\")\n",
        "plt.title(\"Top 10 Content-Producing Countries\")\n",
        "plt.xticks(rotation=45)\n",
        "plt.show()"
      ],
      "metadata": {
        "id": "yxOMvsNJRB3i"
      },
      "execution_count": null,
      "outputs": []
    },
    {
      "cell_type": "markdown",
      "source": [
        "##### 1. Why did you pick the specific chart?"
      ],
      "metadata": {
        "id": "iky9q4vBYrdO"
      }
    },
    {
      "cell_type": "markdown",
      "source": [
        "A bar chart is useful for ranking categorical variables like country names."
      ],
      "metadata": {
        "id": "aJRCwT6DYrdO"
      }
    },
    {
      "cell_type": "markdown",
      "source": [
        "##### 2. What is/are the insight(s) found from the chart?"
      ],
      "metadata": {
        "id": "F6T5p64dYrdO"
      }
    },
    {
      "cell_type": "markdown",
      "source": [
        "Helps understand which countries contribute the most to Netflix’s catalog and geographical diversity in content."
      ],
      "metadata": {
        "id": "Xx8WAJvtYrdO"
      }
    },
    {
      "cell_type": "markdown",
      "source": [
        "#### Chart - 5"
      ],
      "metadata": {
        "id": "bamQiAODYuh1"
      }
    },
    {
      "cell_type": "code",
      "source": [
        "# Chart - 5 visualization code"
      ],
      "metadata": {
        "id": "TIJwrbroYuh3"
      },
      "execution_count": null,
      "outputs": []
    },
    {
      "cell_type": "code",
      "source": [
        "Histogram - Duration Distribution"
      ],
      "metadata": {
        "id": "7lyoYqZCRP8A"
      },
      "execution_count": null,
      "outputs": []
    },
    {
      "cell_type": "code",
      "source": [
        "# Extract numeric values from the 'duration' column, handle potential errors if the column is already numeric\n",
        "try:\n",
        "    df['duration'] = df['duration'].str.extract('(\\d+)').astype(float)\n",
        "except AttributeError:\n",
        "    # If 'duration' is already numeric, skip the extraction and proceed\n",
        "    print(\"Duration column is already numeric. Skipping extraction.\")\n",
        "\n",
        "# Create the histogram\n",
        "df['duration'].plot(kind='hist', bins=20, color='cyan', alpha=0.7)\n",
        "plt.xlabel(\"Duration\")\n",
        "plt.ylabel(\"Frequency\")\n",
        "plt.title(\"Distribution of Movie/TV Show Duration\")\n",
        "plt.show()"
      ],
      "metadata": {
        "id": "AXacsOu8RmfX"
      },
      "execution_count": null,
      "outputs": []
    },
    {
      "cell_type": "markdown",
      "source": [
        "##### 1. Why did you pick the specific chart?"
      ],
      "metadata": {
        "id": "QHF8YVU7Yuh3"
      }
    },
    {
      "cell_type": "markdown",
      "source": [
        "Histograms effectively show frequency distributions for numerical data like duration\n"
      ],
      "metadata": {
        "id": "dcxuIMRPYuh3"
      }
    },
    {
      "cell_type": "markdown",
      "source": [
        "##### 2. What is/are the insight(s) found from the chart?"
      ],
      "metadata": {
        "id": "GwzvFGzlYuh3"
      }
    },
    {
      "cell_type": "markdown",
      "source": [
        "Helps analyze common durations of Netflix content, identifying whether movies or TV shows tend to have longer watch times."
      ],
      "metadata": {
        "id": "uyqkiB8YYuh3"
      }
    },
    {
      "cell_type": "markdown",
      "source": [
        "###**Bivariate Analysis (Two Variables)**"
      ],
      "metadata": {
        "id": "DEDw9o8NSUCo"
      }
    },
    {
      "cell_type": "markdown",
      "source": [
        "#### Chart - 6"
      ],
      "metadata": {
        "id": "OH-pJp9IphqM"
      }
    },
    {
      "cell_type": "code",
      "source": [
        "# Chart - 6 visualization code"
      ],
      "metadata": {
        "id": "kuRf4wtuphqN"
      },
      "execution_count": null,
      "outputs": []
    },
    {
      "cell_type": "markdown",
      "source": [
        "Scatter Plot - Release Year vs. Duration"
      ],
      "metadata": {
        "id": "SvaTxmY5SoPW"
      }
    },
    {
      "cell_type": "code",
      "source": [
        "import seaborn as sns\n",
        "sns.scatterplot(x='release_year', y='duration', data=df, color='blue', alpha=0.6)\n",
        "plt.xlabel(\"Release Year\")\n",
        "plt.ylabel(\"Duration\")\n",
        "plt.title(\"Content Duration Across Release Years\")\n",
        "plt.show()"
      ],
      "metadata": {
        "id": "p5uFa0svSqRn"
      },
      "execution_count": null,
      "outputs": []
    },
    {
      "cell_type": "markdown",
      "source": [
        "##### 1. Why did you pick the specific chart?"
      ],
      "metadata": {
        "id": "bbFf2-_FphqN"
      }
    },
    {
      "cell_type": "markdown",
      "source": [
        "Scatter plots are useful for spotting trends or anomalies in numerical relationships."
      ],
      "metadata": {
        "id": "loh7H2nzphqN"
      }
    },
    {
      "cell_type": "markdown",
      "source": [
        "##### 2. What is/are the insight(s) found from the chart?"
      ],
      "metadata": {
        "id": "_ouA3fa0phqN"
      }
    },
    {
      "cell_type": "markdown",
      "source": [
        "Helps detect if newer Netflix content has longer or shorter durations over time"
      ],
      "metadata": {
        "id": "VECbqPI7phqN"
      }
    },
    {
      "cell_type": "markdown",
      "source": [
        "#### Chart - 7"
      ],
      "metadata": {
        "id": "PIIx-8_IphqN"
      }
    },
    {
      "cell_type": "code",
      "source": [
        "# Chart - 7 visualization code"
      ],
      "metadata": {
        "id": "lqAIGUfyphqO"
      },
      "execution_count": null,
      "outputs": []
    },
    {
      "cell_type": "markdown",
      "source": [
        "Box Plot - Ratings by Content Type"
      ],
      "metadata": {
        "id": "gRdj4JnSS4np"
      }
    },
    {
      "cell_type": "code",
      "source": [
        "sns.boxplot(x='type', y='rating', data=df, palette='coolwarm')\n",
        "plt.xlabel(\"Content Type\")\n",
        "plt.ylabel(\"Ratings\")\n",
        "plt.title(\"Distribution of Ratings by Movies and TV Shows\")\n",
        "plt.show()"
      ],
      "metadata": {
        "id": "_EJnWjvGS8lc"
      },
      "execution_count": null,
      "outputs": []
    },
    {
      "cell_type": "markdown",
      "source": [
        "##### 1. Why did you pick the specific chart?"
      ],
      "metadata": {
        "id": "t27r6nlMphqO"
      }
    },
    {
      "cell_type": "markdown",
      "source": [
        "Box plots are great for comparing distributions between groups.\n"
      ],
      "metadata": {
        "id": "iv6ro40sphqO"
      }
    },
    {
      "cell_type": "markdown",
      "source": [
        "##### 2. What is/are the insight(s) found from the chart?"
      ],
      "metadata": {
        "id": "r2jJGEOYphqO"
      }
    },
    {
      "cell_type": "markdown",
      "source": [
        "Shows whether movies or TV shows tend to get higher or lower ratings.\n"
      ],
      "metadata": {
        "id": "Po6ZPi4hphqO"
      }
    },
    {
      "cell_type": "markdown",
      "source": [
        "#### Chart - 8"
      ],
      "metadata": {
        "id": "BZR9WyysphqO"
      }
    },
    {
      "cell_type": "code",
      "source": [
        "# Chart - 8 visualization code"
      ],
      "metadata": {
        "id": "TdPTWpAVphqO"
      },
      "execution_count": null,
      "outputs": []
    },
    {
      "cell_type": "markdown",
      "source": [
        "Bar Chart - Average Duration by Country"
      ],
      "metadata": {
        "id": "xnDqkLXLTJRS"
      }
    },
    {
      "cell_type": "code",
      "source": [
        "df.groupby('country')['duration'].mean().head(10).plot(kind='bar', color='gold')\n",
        "plt.xlabel(\"Country\")\n",
        "plt.ylabel(\"Average Duration\")\n",
        "plt.title(\"Average Movie/TV Show Duration by Country\")\n",
        "plt.xticks(rotation=45)\n",
        "plt.show()"
      ],
      "metadata": {
        "id": "iuA15AwlTMkB"
      },
      "execution_count": null,
      "outputs": []
    },
    {
      "cell_type": "markdown",
      "source": [
        "##### 1. Why did you pick the specific chart?"
      ],
      "metadata": {
        "id": "jj7wYXLtphqO"
      }
    },
    {
      "cell_type": "markdown",
      "source": [
        "Bar charts are effective for comparing average values across categories"
      ],
      "metadata": {
        "id": "Ob8u6rCTphqO"
      }
    },
    {
      "cell_type": "markdown",
      "source": [
        "##### 2. What is/are the insight(s) found from the chart?"
      ],
      "metadata": {
        "id": "eZrbJ2SmphqO"
      }
    },
    {
      "cell_type": "markdown",
      "source": [
        "Highlights how content duration varies by country."
      ],
      "metadata": {
        "id": "mZtgC_hjphqO"
      }
    },
    {
      "cell_type": "markdown",
      "source": [
        "#### Chart - 9"
      ],
      "metadata": {
        "id": "YJ55k-q6phqO"
      }
    },
    {
      "cell_type": "code",
      "source": [
        "# Chart - 9 visualization code"
      ],
      "metadata": {
        "id": "B2aS4O1ophqO"
      },
      "execution_count": null,
      "outputs": []
    },
    {
      "cell_type": "markdown",
      "source": [
        "Heatmap - Release Year vs. Rating"
      ],
      "metadata": {
        "id": "r2XIWwIBTdR3"
      }
    },
    {
      "cell_type": "code",
      "source": [
        "import seaborn as sns\n",
        "sns.heatmap(df.pivot_table(index='release_year', columns='rating', aggfunc='size', fill_value=0), cmap='coolwarm')\n",
        "plt.title(\"Heatmap of Release Year vs. Ratings\")\n",
        "plt.show()"
      ],
      "metadata": {
        "id": "DyLdM3EoTkvV"
      },
      "execution_count": null,
      "outputs": []
    },
    {
      "cell_type": "markdown",
      "source": [
        "##### 1. Why did you pick the specific chart?"
      ],
      "metadata": {
        "id": "gCFgpxoyphqP"
      }
    },
    {
      "cell_type": "markdown",
      "source": [
        "Heatmaps help visualize large data matrices, making it easy to see trends."
      ],
      "metadata": {
        "id": "TVxDimi2phqP"
      }
    },
    {
      "cell_type": "markdown",
      "source": [
        "##### 2. What is/are the insight(s) found from the chart?"
      ],
      "metadata": {
        "id": "OVtJsKN_phqQ"
      }
    },
    {
      "cell_type": "markdown",
      "source": [
        "Shows which ratings were more frequent in different years."
      ],
      "metadata": {
        "id": "ngGi97qjphqQ"
      }
    },
    {
      "cell_type": "markdown",
      "source": [
        "#### Chart - 10"
      ],
      "metadata": {
        "id": "U2RJ9gkRphqQ"
      }
    },
    {
      "cell_type": "code",
      "source": [
        "# Chart - 10 visualization code"
      ],
      "metadata": {
        "id": "GM7a4YP4phqQ"
      },
      "execution_count": null,
      "outputs": []
    },
    {
      "cell_type": "markdown",
      "source": [
        "Line Chart - Content Added by Year"
      ],
      "metadata": {
        "id": "zve0xvIcTyaK"
      }
    },
    {
      "cell_type": "code",
      "source": [
        "df.groupby(['release_year', 'type']).size().unstack().plot(kind='line', figsize=(10,5))\n",
        "plt.xlabel(\"Release Year\")\n",
        "plt.ylabel(\"Count\")\n",
        "plt.title(\"Movies vs. TV Shows Added Over the Years\")\n",
        "plt.show()"
      ],
      "metadata": {
        "id": "uXHCV1plT20Y"
      },
      "execution_count": null,
      "outputs": []
    },
    {
      "cell_type": "markdown",
      "source": [
        "##### 1. Why did you pick the specific chart?"
      ],
      "metadata": {
        "id": "1M8mcRywphqQ"
      }
    },
    {
      "cell_type": "markdown",
      "source": [
        "Line charts are useful for visualizing time-based trends."
      ],
      "metadata": {
        "id": "8agQvks0phqQ"
      }
    },
    {
      "cell_type": "markdown",
      "source": [
        "##### 2. What is/are the insight(s) found from the chart?"
      ],
      "metadata": {
        "id": "tgIPom80phqQ"
      }
    },
    {
      "cell_type": "markdown",
      "source": [
        "Shows whether Netflix has been adding more movies or TV shows over the years."
      ],
      "metadata": {
        "id": "Qp13pnNzphqQ"
      }
    },
    {
      "cell_type": "markdown",
      "source": [
        "###**Multivariate Analysis (Three or More Variables)**"
      ],
      "metadata": {
        "id": "LzAQiNk4UIVR"
      }
    },
    {
      "cell_type": "markdown",
      "source": [
        "#### Chart - 11"
      ],
      "metadata": {
        "id": "x-EpHcCOp1ci"
      }
    },
    {
      "cell_type": "code",
      "source": [
        "# Chart - 11 visualization code"
      ],
      "metadata": {
        "id": "mAQTIvtqp1cj"
      },
      "execution_count": null,
      "outputs": []
    },
    {
      "cell_type": "markdown",
      "source": [
        "Bubble Chart - Release Year, Duration, and Rating"
      ],
      "metadata": {
        "id": "AM13ac_VUO9Z"
      }
    },
    {
      "cell_type": "code",
      "source": [
        "sns.scatterplot(x='release_year', y='duration', hue='rating', size='duration', data=df, alpha=0.6)\n",
        "plt.xlabel(\"Release Year\")\n",
        "plt.ylabel(\"Duration\")\n",
        "plt.title(\"Bubble Chart of Release Year, Duration, and Ratings\")\n",
        "plt.show()"
      ],
      "metadata": {
        "id": "nsT035EbUTv1"
      },
      "execution_count": null,
      "outputs": []
    },
    {
      "cell_type": "markdown",
      "source": [
        "##### 1. Why did you pick the specific chart?"
      ],
      "metadata": {
        "id": "X_VqEhTip1ck"
      }
    },
    {
      "cell_type": "markdown",
      "source": [
        "Bubble charts add a third dimension (size) for enhanced insights."
      ],
      "metadata": {
        "id": "-vsMzt_np1ck"
      }
    },
    {
      "cell_type": "markdown",
      "source": [
        "##### 2. What is/are the insight(s) found from the chart?"
      ],
      "metadata": {
        "id": "8zGJKyg5p1ck"
      }
    },
    {
      "cell_type": "markdown",
      "source": [
        "Shows how ratings, duration, and release year interact."
      ],
      "metadata": {
        "id": "ZYdMsrqVp1ck"
      }
    },
    {
      "cell_type": "markdown",
      "source": [
        "#### Chart - 12"
      ],
      "metadata": {
        "id": "n3dbpmDWp1ck"
      }
    },
    {
      "cell_type": "code",
      "source": [
        "# Chart - 12 visualization code"
      ],
      "metadata": {
        "id": "bwevp1tKp1ck"
      },
      "execution_count": null,
      "outputs": []
    },
    {
      "cell_type": "markdown",
      "source": [
        "Stacked Bar Chart - Content Type by Country and Rating"
      ],
      "metadata": {
        "id": "bhn_JUS5Ueta"
      }
    },
    {
      "cell_type": "code",
      "source": [
        "df.groupby(['country', 'type'])['rating'].count().unstack().plot(kind='bar', stacked=True, figsize=(10,5))\n",
        "plt.xlabel(\"Country\")\n",
        "plt.ylabel(\"Count\")\n",
        "plt.title(\"Stacked Bar Chart of Content Type by Country and Rating\")\n",
        "plt.show()"
      ],
      "metadata": {
        "id": "ltu1r9BkUi4l"
      },
      "execution_count": null,
      "outputs": []
    },
    {
      "cell_type": "markdown",
      "source": [
        "##### 1. Why did you pick the specific chart?"
      ],
      "metadata": {
        "id": "ylSl6qgtp1ck"
      }
    },
    {
      "cell_type": "markdown",
      "source": [
        "Stacked bar charts are ideal for showing distribution across multiple dimensions."
      ],
      "metadata": {
        "id": "m2xqNkiQp1ck"
      }
    },
    {
      "cell_type": "markdown",
      "source": [
        "##### 2. What is/are the insight(s) found from the chart?"
      ],
      "metadata": {
        "id": "ZWILFDl5p1ck"
      }
    },
    {
      "cell_type": "markdown",
      "source": [
        "Shows how different countries contribute to Netflix’s ratings and content types."
      ],
      "metadata": {
        "id": "x-lUsV2mp1ck"
      }
    },
    {
      "cell_type": "markdown",
      "source": [
        "#### Chart - 13"
      ],
      "metadata": {
        "id": "Ag9LCva-p1cl"
      }
    },
    {
      "cell_type": "code",
      "source": [
        "# Chart - 13 visualization code"
      ],
      "metadata": {
        "id": "EUfxeq9-p1cl"
      },
      "execution_count": null,
      "outputs": []
    },
    {
      "cell_type": "markdown",
      "source": [
        "3D Scatter Plot - Release Year, Duration, and Country"
      ],
      "metadata": {
        "id": "ZYhlj5j4U0TM"
      }
    },
    {
      "cell_type": "code",
      "source": [
        "from mpl_toolkits.mplot3d import Axes3D\n",
        "\n",
        "fig = plt.figure(figsize=(10,6))\n",
        "ax = fig.add_subplot(111, projection='3d')\n",
        "\n",
        "ax.scatter(df['release_year'], df['duration'], df['country'].astype('category').cat.codes, c='r', marker='o')\n",
        "ax.set_xlabel('Release Year')\n",
        "ax.set_ylabel('Duration')\n",
        "ax.set_zlabel('Country')\n",
        "plt.title(\"3D Scatter Plot of Release Year, Duration, and Country\")\n",
        "plt.show()"
      ],
      "metadata": {
        "id": "t3nkM2MLU4Zp"
      },
      "execution_count": null,
      "outputs": []
    },
    {
      "cell_type": "markdown",
      "source": [
        "##### 1. Why did you pick the specific chart?"
      ],
      "metadata": {
        "id": "E6MkPsBcp1cl"
      }
    },
    {
      "cell_type": "markdown",
      "source": [
        "3D plots help visualize multiple variables effectively"
      ],
      "metadata": {
        "id": "V22bRsFWp1cl"
      }
    },
    {
      "cell_type": "markdown",
      "source": [
        "##### 2. What is/are the insight(s) found from the chart?"
      ],
      "metadata": {
        "id": "2cELzS2fp1cl"
      }
    },
    {
      "cell_type": "markdown",
      "source": [
        "Displays variation in content duration across years and countries."
      ],
      "metadata": {
        "id": "ozQPc2_Ip1cl"
      }
    },
    {
      "cell_type": "markdown",
      "source": [
        "#### Chart - 14 - Correlation Heatmap"
      ],
      "metadata": {
        "id": "NC_X3p0fY2L0"
      }
    },
    {
      "cell_type": "code",
      "source": [
        "# Correlation Heatmap visualization code"
      ],
      "metadata": {
        "id": "xyC9zolEZNRQ"
      },
      "execution_count": null,
      "outputs": []
    },
    {
      "cell_type": "code",
      "source": [
        "import pandas as pd\n",
        "import seaborn as sns\n",
        "import matplotlib.pyplot as plt\n",
        "\n",
        "# Sample DataFrame (Replace with your actual dataset)\n",
        "df = pd.DataFrame({\n",
        "    'release_year': [2010, 2015, 2020, 2018, 2012],\n",
        "    'duration': [120, 90, 150, 110, 95],\n",
        "    'rating_score': [7.5, 8.2, 6.8, 7.9, 8.0]\n",
        "})\n",
        "\n",
        "# Compute correlation matrix\n",
        "corr_matrix = df.corr()\n",
        "\n",
        "# Plot heatmap\n",
        "plt.figure(figsize=(8, 6))\n",
        "sns.heatmap(corr_matrix, annot=True, cmap=\"coolwarm\", fmt=\".2f\", linewidths=0.5)\n",
        "plt.title(\"Correlation Heatmap of Netflix Dataset\")\n",
        "plt.show()"
      ],
      "metadata": {
        "id": "2Fs_JVngVXS8"
      },
      "execution_count": null,
      "outputs": []
    },
    {
      "cell_type": "markdown",
      "source": [
        "##### 1. Why did you pick the specific chart?"
      ],
      "metadata": {
        "id": "UV0SzAkaZNRQ"
      }
    },
    {
      "cell_type": "markdown",
      "source": [
        "- Shows relationships between multiple numerical variables at once.\n",
        "- Highlights strong positive or negative correlations (e.g., does duration impact rating?).\n",
        "- Helps in feature selection for predictive modeling.\n"
      ],
      "metadata": {
        "id": "DVPuT8LYZNRQ"
      }
    },
    {
      "cell_type": "markdown",
      "source": [
        "##### 2. What is/are the insight(s) found from the chart?"
      ],
      "metadata": {
        "id": "YPEH6qLeZNRQ"
      }
    },
    {
      "cell_type": "markdown",
      "source": [
        "- Positive correlation (closer to +1) means variables increase together.\n",
        "- Negative correlation (closer to -1) means one variable decreases as the other increases.\n",
        "- Near-zero correlation means no strong relationship exists.\n"
      ],
      "metadata": {
        "id": "bfSqtnDqZNRR"
      }
    },
    {
      "cell_type": "markdown",
      "source": [
        "#### Chart - 15 - Pair Plot"
      ],
      "metadata": {
        "id": "q29F0dvdveiT"
      }
    },
    {
      "cell_type": "code",
      "source": [
        "# Pair Plot visualization code"
      ],
      "metadata": {
        "id": "o58-TEIhveiU"
      },
      "execution_count": null,
      "outputs": []
    },
    {
      "cell_type": "code",
      "source": [
        "import pandas as pd\n",
        "import seaborn as sns\n",
        "import matplotlib.pyplot as plt\n",
        "\n",
        "# Sample DataFrame (Replace with your actual dataset)\n",
        "df = pd.DataFrame({\n",
        "    'release_year': [2010, 2015, 2020, 2018, 2012, 2016, 2019],\n",
        "    'duration': [120, 90, 150, 110, 95, 130, 140],\n",
        "    'rating_score': [7.5, 8.2, 6.8, 7.9, 8.0, 7.3, 8.5]\n",
        "})\n",
        "\n",
        "# Create pairplot\n",
        "sns.pairplot(df, diag_kind='kde', plot_kws={'alpha':0.6})\n",
        "plt.suptitle(\"Pairplot of Netflix Dataset Variables\", y=1.02)\n",
        "plt.show()"
      ],
      "metadata": {
        "id": "s72SjMxzVvFg"
      },
      "execution_count": null,
      "outputs": []
    },
    {
      "cell_type": "markdown",
      "source": [
        "##### 1. Why did you pick the specific chart?"
      ],
      "metadata": {
        "id": "EXh0U9oCveiU"
      }
    },
    {
      "cell_type": "markdown",
      "source": [
        "- Shows relationships between multiple numerical variables in a single visualization.\n",
        "- Helps detect correlations between variables like release year, duration, and ratings.\n",
        "- Displays both scatter plots and density plots, making it easy to analyze distributions.\n"
      ],
      "metadata": {
        "id": "eMmPjTByveiU"
      }
    },
    {
      "cell_type": "markdown",
      "source": [
        "##### 2. What is/are the insight(s) found from the chart?"
      ],
      "metadata": {
        "id": "22aHeOlLveiV"
      }
    },
    {
      "cell_type": "markdown",
      "source": [
        "- Positive correlation (upward trend in scatter plots) suggests variables increase together.\n",
        "- Negative correlation (downward trend) indicates one variable decreases as the other increases.\n",
        "- Density plots on the diagonal show the distribution of individual variables.\n"
      ],
      "metadata": {
        "id": "uPQ8RGwHveiV"
      }
    },
    {
      "cell_type": "markdown",
      "source": [
        "## **5. Solution to Business Objective**"
      ],
      "metadata": {
        "id": "JcMwzZxoAimU"
      }
    },
    {
      "cell_type": "markdown",
      "source": [
        "#### What do you suggest the client to achieve Business Objective ?\n",
        "Explain Briefly."
      ],
      "metadata": {
        "id": "8G2x9gOozGDZ"
      }
    },
    {
      "cell_type": "markdown",
      "source": [
        "### **Suggested Solutions to Achieve the Business Objective**  \n",
        "\n",
        "To meet the **business objective** of optimizing Netflix’s content strategy, audience engagement, and platform growth through **Exploratory Data Analysis (EDA)**, here are key **solutions** the client can implement:\n",
        "\n",
        "### **1. Data-Driven Content Strategy**\n",
        "**Identify Popular Genres & Ratings:**  \n",
        "   - Use data insights to determine the most-watched genres and highest-rated content.\n",
        "   - Prioritize investment in trending genres to attract more subscribers.  \n",
        "**Optimize Release Timing:**  \n",
        "   - Analyze peak content release periods and align new releases with user demand patterns.  \n",
        "**Country-Specific Content Creation:**  \n",
        "   - Identify top-performing countries for localized content strategies.  \n",
        "\n",
        "### **2. Enhancing User Engagement & Recommendations**\n",
        "**Improve Personalized Recommendations:**  \n",
        "   - Use machine learning models to suggest content based on user preferences.  \n",
        "**Optimize Watch Time Analysis:**  \n",
        "   - Analyze duration trends to create content that aligns with user engagement levels.  \n",
        "**Enhance Ratings-Based Filtering:**  \n",
        "   - Suggest content based on viewers’ ratings preferences.  \n",
        "\n",
        "### **3. Addressing Missing Data & Data Quality**\n",
        "**Handling Missing Information:**  \n",
        "   - Use intelligent **data-filling techniques** to clean gaps in director, cast, and country data.  \n",
        "**Standardizing Data Formats:**  \n",
        "   - Ensure uniform data representation for better analytics and modeling.  \n",
        "\n",
        "### **4. Strengthening Market Expansion Strategies**\n",
        "**Target Emerging Markets:**  \n",
        "   - Identify regions with growing demand and produce content suited for their audiences.  \n",
        "**Partnerships with Leading Directors & Actors:**  \n",
        "   - Use insights on **popular creators** to form collaborations for high-impact productions.  \n",
        "\n",
        "### **5. Future AI & Predictive Modeling Integrations**\n",
        "**Predict Content Popularity:**  \n",
        "   - Develop predictive models using **historical engagement trends** to forecast content success.  \n",
        "**Automated Metadata Tagging:**  \n",
        "   - Use AI-based classification to enhance Netflix’s content categorization for search optimization.  \n"
      ],
      "metadata": {
        "id": "pASKb0qOza21"
      }
    },
    {
      "cell_type": "markdown",
      "source": [
        "# **Conclusion**"
      ],
      "metadata": {
        "id": "gCX9965dhzqZ"
      }
    },
    {
      "cell_type": "markdown",
      "source": [
        "### **Final Thoughts on the Netflix Dataset Project**  \n",
        "\n",
        "Netflix is one of the biggest streaming platforms, offering a vast collection of movies and TV shows. This project helped break down its content by analyzing trends, genres, ratings, durations, and country-wise contributions.  \n",
        "\n",
        "#### **What We Discovered**  \n",
        "- **Movies vs. TV Shows** → Netflix has more movies than TV shows.  \n",
        "- **Popular Genres** → Drama and Comedy dominate its catalog.  \n",
        "- **Country Contributions** → The USA leads in content production, with India and the UK following.  \n",
        "- **Ratings & Duration** → TV-MA (Mature) content is most common, and movies typically last 90–120 minutes.  \n",
        "\n",
        "#### **Why This Matters**  \n",
        "By understanding these patterns, Netflix can make **data-driven decisions** to improve recommendations, optimize content creation, and expand into new markets. Insights like **which genres perform best** or **which regions demand specific content** will shape future strategies.  \n",
        "\n",
        "#### **What’s Next?**  \n",
        "This analysis can be expanded further by using **machine learning** to predict content popularity, **enhancing personalized recommendations**, and **identifying emerging trends** to stay ahead in the competitive streaming industry.  \n",
        "\n",
        "Netflix thrives by knowing what viewers love—and with the power of data, it can keep delivering the best entertainment experience.."
      ],
      "metadata": {
        "id": "Fjb1IsQkh3yE"
      }
    },
    {
      "cell_type": "markdown",
      "source": [
        "### ***Hurrah! You have successfully completed your EDA Capstone Project !!!***"
      ],
      "metadata": {
        "id": "gIfDvo9L0UH2"
      }
    },
    {
      "cell_type": "markdown",
      "source": [
        "#**THANK YOU !!**"
      ],
      "metadata": {
        "id": "hciATye6WpoC"
      }
    }
  ]
}